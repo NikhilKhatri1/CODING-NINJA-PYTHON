{
 "cells": [
  {
   "cell_type": "markdown",
   "metadata": {},
   "source": [
    "## Calculator"
   ]
  },
  {
   "cell_type": "code",
   "execution_count": null,
   "metadata": {},
   "outputs": [],
   "source": [
    "while True:\n",
    "    n = int(input())        \n",
    "    if(n == 1):\n",
    "        a = int(input())\n",
    "        b = int(input())\n",
    "        print(a+b)\n",
    "    if(n == 2):\n",
    "        a = int(input())\n",
    "        b = int(input())\n",
    "        print(a-b)\n",
    "    if(n == 3):\n",
    "        a = int(input())\n",
    "        b = int(input())\n",
    "        print(a*b)\n",
    "    if(n == 4):\n",
    "        a = int(input())\n",
    "        b = int(input())\n",
    "        print(a/b)\n",
    "    if(n == 5):\n",
    "        a = int(input())\n",
    "        b = int(input())\n",
    "        print(a%b)\n",
    "    if(n == 6):\n",
    "        sys.exit(0)\n",
    "    if(n < 1 and n > 6):\n",
    "        print(\"Invalid Operation\")   "
   ]
  },
  {
   "cell_type": "markdown",
   "metadata": {},
   "source": [
    "## Reverse number"
   ]
  },
  {
   "cell_type": "code",
   "execution_count": 1,
   "metadata": {},
   "outputs": [
    {
     "name": "stdout",
     "output_type": "stream",
     "text": [
      "1234\n",
      "4321\n"
     ]
    }
   ],
   "source": [
    "def reverse(n):\n",
    "    rev = 0\n",
    "    while(n >0):\n",
    "        rem = n % 10\n",
    "        rev = (rev * 10) + rem\n",
    "        n = n//10\n",
    "    return rev        \n",
    "n=int(input())\n",
    "result = reverse(n)\n",
    "print(result)"
   ]
  },
  {
   "cell_type": "markdown",
   "metadata": {},
   "source": [
    "## Palindrome"
   ]
  },
  {
   "cell_type": "code",
   "execution_count": 2,
   "metadata": {},
   "outputs": [
    {
     "name": "stdout",
     "output_type": "stream",
     "text": [
      "121\n",
      "true\n"
     ]
    }
   ],
   "source": [
    "def checkPalindrome(num):\n",
    "    if(num == reverse(num)):\n",
    "        return True\n",
    "    else:\n",
    "        return False\n",
    "    \n",
    "def reverse(n):\n",
    "    rev = 0\n",
    "    while(n >0):\n",
    "        rem = n % 10\n",
    "        rev = (rev * 10) + rem\n",
    "        n = n//10\n",
    "    return rev        \n",
    "\n",
    "num = int(input())\n",
    "isPalindrome = checkPalindrome(num)\n",
    "if(isPalindrome):\n",
    "    print('true')\n",
    "else:\n",
    "    print('false')"
   ]
  },
  {
   "cell_type": "markdown",
   "metadata": {},
   "source": [
    "## Sum of even and odd"
   ]
  },
  {
   "cell_type": "code",
   "execution_count": 3,
   "metadata": {},
   "outputs": [
    {
     "name": "stdout",
     "output_type": "stream",
     "text": [
      "1234\n",
      "6 4\n"
     ]
    }
   ],
   "source": [
    "## Note : For printing multiple values in one line, put them inside print separated by space.\n",
    "## You can follow this syntax for printing values of two variables val1 and val2 separaetd by space -\n",
    "## print(val1, \" \", val2)\n",
    "\n",
    "num = int(input())\n",
    "\n",
    "sum_even = 0\n",
    "\n",
    "sum_odd = 0\n",
    "\n",
    "while num>0:\n",
    "    digit = num%10\n",
    "    num = num//10\n",
    "    if digit%2 == 0:\n",
    "        sum_even = sum_even + digit\n",
    "    else:\n",
    "        sum_odd = sum_odd + digit\n",
    "    \n",
    "print(int(sum_even),int(sum_odd))"
   ]
  },
  {
   "cell_type": "markdown",
   "metadata": {},
   "source": [
    "## Nth Fibonacci Number\n",
    "\n",
    "Nth term of fibonacci series F(n) is calculated using following formula - F(n) = F(n-1) + F(n-2), Provided N you have to find out the Nth Fibonacci Number. Also F(1) = F(2) = 1. Input Format : Integer n Constraints: Time Limit: 1 second Output Format : Nth Fibonacci term i.e. F(n) Sample Input : 4 Sample Output : 3\n"
   ]
  },
  {
   "cell_type": "code",
   "execution_count": null,
   "metadata": {},
   "outputs": [],
   "source": [
    "## Read input as specified in the question.\n",
    "## Print output as specified in the question.\n",
    "x = int(input())\n",
    "i = 0\n",
    "First_Value = 0\n",
    "Second_Value = 1\n",
    "while(i <= x):\n",
    "    if(i <= 1): \n",
    "        Next = i \n",
    "    else:\n",
    "        Next = First_Value + Second_Value \n",
    "        First_Value = Second_Value \n",
    "        Second_Value = Next \n",
    "    i = i + 1\n",
    "print(Next)"
   ]
  },
  {
   "cell_type": "code",
   "execution_count": null,
   "metadata": {},
   "outputs": [],
   "source": []
  },
  {
   "cell_type": "code",
   "execution_count": null,
   "metadata": {},
   "outputs": [],
   "source": []
  },
  {
   "cell_type": "code",
   "execution_count": null,
   "metadata": {},
   "outputs": [],
   "source": []
  }
 ],
 "metadata": {
  "kernelspec": {
   "display_name": "Python 3",
   "language": "python",
   "name": "python3"
  },
  "language_info": {
   "codemirror_mode": {
    "name": "ipython",
    "version": 3
   },
   "file_extension": ".py",
   "mimetype": "text/x-python",
   "name": "python",
   "nbconvert_exporter": "python",
   "pygments_lexer": "ipython3",
   "version": "3.8.5"
  }
 },
 "nbformat": 4,
 "nbformat_minor": 4
}

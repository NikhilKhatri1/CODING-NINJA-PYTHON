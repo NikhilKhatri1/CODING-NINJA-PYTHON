{
 "cells": [
  {
   "cell_type": "code",
   "execution_count": null,
   "metadata": {},
   "outputs": [],
   "source": [
    "## Arithmetic Progression:\n",
    "## You are given first three entries of an arithmetic progression.\n",
    "## You have to calculate the common difference and print it."
   ]
  },
  {
   "cell_type": "code",
   "execution_count": null,
   "metadata": {},
   "outputs": [],
   "source": [
    "# Write your code here\n",
    "a=int(input())\n",
    "b=int(input())\n",
    "c=int(input())\n",
    "print(c-b)"
   ]
  },
  {
   "cell_type": "code",
   "execution_count": null,
   "metadata": {},
   "outputs": [],
   "source": [
    "## Find Average Marks:\n",
    "## Write a program to input marks of three tests of a student (all integers). \n",
    "## Then calculate and print the average of all test marks."
   ]
  },
  {
   "cell_type": "code",
   "execution_count": null,
   "metadata": {},
   "outputs": [],
   "source": [
    "# Read input as sepcified in the question\n",
    "# Print output as specified in the question\n",
    "a=int(input())\n",
    "b=int(input())\n",
    "c=int(input())\n",
    "s=a+b+c\n",
    "print(s/3)"
   ]
  },
  {
   "cell_type": "code",
   "execution_count": null,
   "metadata": {},
   "outputs": [],
   "source": [
    "## Find X raised to power N:\n",
    "##You are given two integers: X and N. You have to calculate X raised to power N and print it.\n",
    "\n",
    "# Write your code here\n",
    "\n",
    "a=int(input())\n",
    "b=int(input())\n",
    "print(a**b)"
   ]
  },
  {
   "cell_type": "code",
   "execution_count": null,
   "metadata": {},
   "outputs": [],
   "source": [
    "## Find_Average_Marks:\n",
    "#Find average Marks\n",
    "\n",
    "#Write a program to input marks of three tests of a student (all integers). \n",
    "## Then calculate and print the average of all test marks.\n",
    "\n",
    "# Read input as sepcified in the question\n",
    "# Print output as specified in the question\n",
    "\n",
    "test1=int(input())\n",
    "test2=int(input())\n",
    "test3=int(input())\n",
    "average=(test1+test2+test3)/3\n",
    "print(average)"
   ]
  },
  {
   "cell_type": "code",
   "execution_count": null,
   "metadata": {},
   "outputs": [],
   "source": [
    "## Rectangular Area:\n",
    "\n",
    "## You are given a rectangle in a plane. The corner coordinates of this rectangle is provided to you. \n",
    "## You have to print the amount of area of the plane covered by this rectangles.\n",
    "## The end coordinates are provided as \n",
    "## four integral values: x1, y1, x2, y2. It is given that x1 < x2 and y1 < y2.\n",
    "\n",
    "\n",
    "\n",
    "# Write your code here\n",
    "\n",
    "x1=int(input())\n",
    "y1=int(input())\n",
    "x2=int(input())\n",
    "y2=int(input())\n",
    "print((x2-x1)*(y2-y1))"
   ]
  }
 ],
 "metadata": {
  "kernelspec": {
   "display_name": "Python 3",
   "language": "python",
   "name": "python3"
  },
  "language_info": {
   "codemirror_mode": {
    "name": "ipython",
    "version": 3
   },
   "file_extension": ".py",
   "mimetype": "text/x-python",
   "name": "python",
   "nbconvert_exporter": "python",
   "pygments_lexer": "ipython3",
   "version": "3.8.5"
  }
 },
 "nbformat": 4,
 "nbformat_minor": 4
}

{
 "cells": [
  {
   "cell_type": "markdown",
   "metadata": {},
   "source": [
    "## Python implementation of the 2048 game."
   ]
  },
  {
   "cell_type": "code",
   "execution_count": null,
   "metadata": {},
   "outputs": [],
   "source": []
  },
  {
   "cell_type": "markdown",
   "metadata": {},
   "source": [
    "## 1.Importing Random Module"
   ]
  },
  {
   "cell_type": "code",
   "execution_count": 1,
   "metadata": {},
   "outputs": [],
   "source": [
    "import random"
   ]
  },
  {
   "cell_type": "markdown",
   "metadata": {},
   "source": [
    "## -This line imports the random module, which is used later in the code to generate random numbers."
   ]
  },
  {
   "cell_type": "markdown",
   "metadata": {},
   "source": [
    "## 2.start_game() Function"
   ]
  },
  {
   "cell_type": "code",
   "execution_count": 3,
   "metadata": {},
   "outputs": [],
   "source": [
    "def start_game():\n",
    "    mat = []\n",
    "    for i in range(4):\n",
    "        mat.append([0]*4)\n",
    "    return mat"
   ]
  },
  {
   "cell_type": "markdown",
   "metadata": {},
   "source": [
    "## The start_game() function initializes a 4x4 matrix with all elements set to 0. It returns the empty matrix."
   ]
  },
  {
   "cell_type": "markdown",
   "metadata": {},
   "source": [
    "## 3.add_new_2() Function"
   ]
  },
  {
   "cell_type": "code",
   "execution_count": 4,
   "metadata": {},
   "outputs": [],
   "source": [
    "def add_new_2(mat):\n",
    "    r = random.randint(0, 3)\n",
    "    c = random.randint(0, 3)\n",
    "    while mat[r][c] != 0:\n",
    "        r = random.randint(0, 3)\n",
    "        c = random.randint(0, 3)\n",
    "    mat[r][c] = 2\n",
    "    return mat"
   ]
  },
  {
   "cell_type": "markdown",
   "metadata": {},
   "source": [
    "## The add_new_2() function \n",
    "takes the game matrix as input and adds a new random 2 to an empty cell in the matrix.\n",
    "It generates random row r and column c until it finds an empty cell (value 0),\n",
    "and then assigns the value 2 to that cell. It returns the updated matrix."
   ]
  },
  {
   "cell_type": "markdown",
   "metadata": {},
   "source": [
    "## 4.reverse() Function"
   ]
  },
  {
   "cell_type": "code",
   "execution_count": 5,
   "metadata": {},
   "outputs": [],
   "source": [
    "def reverse(mat):\n",
    "    new_mat = []\n",
    "    for i in range(4):\n",
    "        new_mat.append([])\n",
    "        for j in range(4):\n",
    "            new_mat[i].append(mat[i][4-j-1])\n",
    "    return new_mat"
   ]
  },
  {
   "cell_type": "markdown",
   "metadata": {},
   "source": [
    "## The reverse() function \n",
    "takes the game matrix as input and returns a new matrix with the order of columns reversed.\n",
    "It iterates through each element of the input matrix and appends \n",
    "the elements in reverse order to a new matrix."
   ]
  },
  {
   "cell_type": "markdown",
   "metadata": {},
   "source": [
    "## 5.transpose() Function"
   ]
  },
  {
   "cell_type": "code",
   "execution_count": 6,
   "metadata": {},
   "outputs": [],
   "source": [
    "def transpose(mat):\n",
    "    new_mat = []\n",
    "    for i in range(4):\n",
    "        new_mat.append([])\n",
    "        for j in range(4):\n",
    "            new_mat[i].append(mat[j][i])\n",
    "    return new_mat"
   ]
  },
  {
   "cell_type": "markdown",
   "metadata": {},
   "source": [
    "## The transpose() function\n",
    "takes the game matrix as input and returns a new matrix with the rows and columns swapped.\n",
    "It iterates through each element of the input matrix and appends \n",
    "the elements in transposed positions to a new matrix."
   ]
  },
  {
   "cell_type": "markdown",
   "metadata": {},
   "source": [
    "## 6.merge() Function"
   ]
  },
  {
   "cell_type": "code",
   "execution_count": 7,
   "metadata": {},
   "outputs": [],
   "source": [
    "def merge(mat):\n",
    "    for i in range(4):\n",
    "        for j in range(3):\n",
    "            if mat[i][j] == mat[i][j+1] and mat[i][j] != 0:\n",
    "                mat[i][j] = mat[i][j] * 2\n",
    "                mat[i][j+1] = 0\n",
    "    return mat"
   ]
  },
  {
   "cell_type": "markdown",
   "metadata": {},
   "source": [
    "## The merge() function \n",
    "takes the game matrix as input and merges adjacent cells with the same value in each row.\n",
    "It iterates through each element of the matrix and checks \n",
    "if the current element is equal to the next element in the same row.\n",
    "If they are equal and not zero, \n",
    "it doubles the value of the current element and sets the value of the next element to zero.\n",
    "It modifies the matrix in place and returns the updated matrix."
   ]
  },
  {
   "cell_type": "markdown",
   "metadata": {},
   "source": [
    "## 7.compress() Function"
   ]
  },
  {
   "cell_type": "code",
   "execution_count": 9,
   "metadata": {},
   "outputs": [],
   "source": [
    "def compress(mat):\n",
    "    new_mat = []\n",
    "    for i in range(4):\n",
    "        new_mat.append([0]*4)\n",
    "    for i in range(4):\n",
    "        pos = 0\n",
    "        for j in range(4):\n",
    "            if mat[i][j] != 0:\n",
    "                new_mat[i][pos] = mat[i][j]\n",
    "                pos += 1\n",
    "    return new_mat\n"
   ]
  },
  {
   "cell_type": "markdown",
   "metadata": {},
   "source": [
    "## The compress() function\n",
    "takes the game matrix as input and returns a new matrix with all the non-zero elements shifted towards the left in each row,\n",
    "while maintaining the relative order of non-zero elements.\n",
    "It creates a new matrix with all elements set to zero and then iterates through each row of the input matrix.\n",
    "For each non-zero element,\n",
    "it places the element at the leftmost available position in the new matrix. It returns the updated matrix."
   ]
  },
  {
   "cell_type": "markdown",
   "metadata": {},
   "source": [
    "## 8.move_up() Function"
   ]
  },
  {
   "cell_type": "code",
   "execution_count": 10,
   "metadata": {},
   "outputs": [],
   "source": [
    "def move_up(grid):\n",
    "    transposed_grid = transpose(grid)\n",
    "    new_grid = compress(transposed_grid)\n",
    "    new_grid = merge(new_grid)\n",
    "    new_grid = compress(new_grid)\n",
    "    final_grid = transpose(new_grid)\n",
    "    return final_grid\n"
   ]
  },
  {
   "cell_type": "markdown",
   "metadata": {},
   "source": [
    "## The move_up() function \n",
    "takes the game matrix as input and performs the move-up operation in the 2048 game. \n",
    "It transposes the input matrix, compresses it, merges adjacent cells with the same value, compresses it again, \n",
    "and finally transposes it back to the original orientation. \n",
    "It returns the resulting matrix after the move-up operation."
   ]
  },
  {
   "cell_type": "markdown",
   "metadata": {},
   "source": [
    "## 9.move_down() Function"
   ]
  },
  {
   "cell_type": "code",
   "execution_count": 11,
   "metadata": {},
   "outputs": [],
   "source": [
    "def move_down(grid):\n",
    "    transposed_grid = transpose(grid)\n",
    "    reversed_grid = reverse(transposed_grid)\n",
    "    new_grid = compress(reversed_grid)\n",
    "    new_grid = merge(new_grid)\n",
    "    new_grid = compress(new_grid)\n",
    "    final_reversed_grid = reverse(new_grid)\n",
    "    final_grid = transpose(final_reversed_grid)\n",
    "    return final_grid"
   ]
  },
  {
   "cell_type": "markdown",
   "metadata": {},
   "source": [
    "## The move_down() function \n",
    "takes the game matrix as input and performs the move-down operation in the 2048 game. \n",
    "It transposes the input matrix, reverses the order of columns, compresses it,\n",
    "merges adjacent cells with the same value, \n",
    "compresses it again, re-reverses the order of columns, and finally transposes \n",
    "it back to the original orientation. \n",
    "It returns the resulting matrix after the move-down operation."
   ]
  },
  {
   "cell_type": "markdown",
   "metadata": {},
   "source": [
    "## 10.move_right() Function"
   ]
  },
  {
   "cell_type": "code",
   "execution_count": 12,
   "metadata": {},
   "outputs": [],
   "source": [
    "def move_right(grid):\n",
    "    reversed_grid = reverse(grid)\n",
    "    new_grid = compress(reversed_grid)\n",
    "    new_grid = merge(new_grid)\n",
    "    new_grid = compress(new_grid)\n",
    "    final_grid = reverse(new_grid)\n",
    "    return final_grid"
   ]
  },
  {
   "cell_type": "markdown",
   "metadata": {},
   "source": [
    "## The move_right() function \n",
    "takes the game matrix as input and performs the move-right operation in the 2048 game. \n",
    "It reverses the order of elements in each row, compresses it, merges adjacent cells with the same value, \n",
    "compresses it again, and finally re-reverses the order of elements in each row. \n",
    "It returns the resulting matrix after the move-right operation."
   ]
  },
  {
   "cell_type": "markdown",
   "metadata": {},
   "source": [
    "## 11.move_left() Function"
   ]
  },
  {
   "cell_type": "code",
   "execution_count": 13,
   "metadata": {},
   "outputs": [],
   "source": [
    "def move_left(grid):\n",
    "    new_grid = compress(grid)\n",
    "    new_grid = merge(new_grid)\n",
    "    new_grid = compress(new_grid)\n",
    "    return new_grid"
   ]
  },
  {
   "cell_type": "markdown",
   "metadata": {},
   "source": [
    "## The move_left() function \n",
    "takes the game matrix as input and performs \n",
    "the move-left operation in the 2048 game. It compresses the input matrix,\n",
    "merges adjacent cells with the same value,\n",
    "compresses it again, and returns the resulting matrix after the move-left operation."
   ]
  },
  {
   "cell_type": "markdown",
   "metadata": {},
   "source": [
    "## 12.get_current_state() Function"
   ]
  },
  {
   "cell_type": "code",
   "execution_count": 14,
   "metadata": {},
   "outputs": [],
   "source": [
    "def get_current_state(mat):\n",
    "    # Anywhere 2048 is present\n",
    "    for i in range(4):\n",
    "        for j in range(4):\n",
    "            if mat[i][j] == 2048:\n",
    "                return 'WON'\n",
    "    # Anywhere 0 is present\n",
    "    for i in range(4):\n",
    "        for j in range(4):\n",
    "            if mat[i][j] == 0:\n",
    "                return 'GAME NOT OVER'\n",
    "    # Every Row and Column except last row and last column\n",
    "    for i in range(3):\n",
    "        for j in range(3):\n",
    "            if mat[i][j] == mat[i+1][j] or mat[i][j] == mat[i][j+1]:\n",
    "                return 'GAME NOT OVER'\n",
    "    # Last Row\n",
    "    for j in range(3):\n",
    "        if mat[3][j] == mat[3][j+1]:\n",
    "            return 'GAME NOT OVER'\n",
    "    # Last Column\n",
    "    for i in range(3):\n",
    "        if mat[i][3] == mat[i+1][3]:\n",
    "            return 'GAME NOT OVER'\n",
    "    return 'LOST'\n"
   ]
  },
  {
   "cell_type": "markdown",
   "metadata": {},
   "source": [
    "## The get_current_state() function \n",
    "takes the game matrix as input and returns the current state of the game. \n",
    "It checks for different conditions to determine the state:\n",
    "\n",
    "    If the number 2048 is present in any cell, it returns 'WON'.\n",
    "    If there is any empty cell (value 0), it returns 'GAME NOT OVER'.\n",
    "    If there are any adjacent cells with the same value in every row and column except for the last row and last column, it returns 'GAME NOT OVER'.\n",
    "    If there are any adjacent cells with the same value in the last row, it returns 'GAME NOT OVER'.\n",
    "    If there are any adjacent cells with the same value in the last column, it returns 'GAME NOT OVER'.\n",
    "    If none of the above conditions are met, it returns 'LOST'."
   ]
  },
  {
   "cell_type": "markdown",
   "metadata": {},
   "source": [
    "## 13.Main Code Execution"
   ]
  },
  {
   "cell_type": "code",
   "execution_count": 17,
   "metadata": {},
   "outputs": [
    {
     "name": "stdout",
     "output_type": "stream",
     "text": [
      "1 2 4 3 2 4 3 1 4\n",
      "[[4, 4, 2, 2], [0, 8, 0, 0], [0, 0, 0, 0], [0, 0, 0, 0]]\n",
      "[[0, 0, 0, 0], [0, 0, 0, 0], [0, 4, 0, 0], [4, 8, 2, 2]]\n",
      "[[0, 0, 0, 0], [0, 0, 0, 0], [0, 0, 0, 4], [0, 4, 8, 4]]\n",
      "[[0, 0, 0, 0], [0, 0, 0, 0], [4, 0, 0, 0], [4, 8, 4, 0]]\n",
      "[[0, 0, 0, 0], [0, 0, 0, 0], [0, 0, 0, 0], [8, 8, 4, 0]]\n",
      "[[0, 0, 0, 0], [0, 0, 0, 0], [0, 0, 0, 0], [0, 0, 16, 4]]\n",
      "[[0, 0, 0, 0], [0, 0, 0, 0], [0, 0, 0, 0], [16, 4, 0, 0]]\n",
      "[[16, 4, 0, 0], [0, 0, 0, 0], [0, 0, 0, 0], [0, 0, 0, 0]]\n",
      "[[0, 0, 16, 4], [0, 0, 0, 0], [0, 0, 0, 0], [0, 0, 0, 0]]\n"
     ]
    }
   ],
   "source": [
    "mat = start_game()\n",
    "mat[1][3] = 2\n",
    "mat[2][2] = 2\n",
    "mat[3][0] = 4\n",
    "mat[3][1] = 8\n",
    "mat[2][1] = 4\n",
    "inputs = [int(ele) for ele in input().split()]\n",
    "for ele in inputs:\n",
    "    if ele == 1:\n",
    "        mat = move_up(mat)\n",
    "    elif ele == 2:\n",
    "        mat = move_down(mat)\n",
    "    elif ele == 3:\n",
    "        mat = move_left(mat)\n",
    "    else:\n",
    "        mat = move_right(mat)\n",
    "    print(mat)"
   ]
  },
  {
   "cell_type": "markdown",
   "metadata": {},
   "source": [
    "This part of the code initializes the game matrix using the start_game() function \n",
    "and assigns specific values to some cells to create a starting state. \n",
    "It then takes a series of input moves from the user, \n",
    "where 1 represents move-up, 2 represents move-down, 3 represents move-left, and 4 represents move-right. \n",
    "Depending on the user input, \n",
    "it calls the corresponding move functions and updates the game matrix. \n",
    "After each move, it prints the updated matrix."
   ]
  },
  {
   "cell_type": "code",
   "execution_count": null,
   "metadata": {},
   "outputs": [],
   "source": []
  }
 ],
 "metadata": {
  "kernelspec": {
   "display_name": "Python 3",
   "language": "python",
   "name": "python3"
  },
  "language_info": {
   "codemirror_mode": {
    "name": "ipython",
    "version": 3
   },
   "file_extension": ".py",
   "mimetype": "text/x-python",
   "name": "python",
   "nbconvert_exporter": "python",
   "pygments_lexer": "ipython3",
   "version": "3.8.5"
  }
 },
 "nbformat": 4,
 "nbformat_minor": 4
}

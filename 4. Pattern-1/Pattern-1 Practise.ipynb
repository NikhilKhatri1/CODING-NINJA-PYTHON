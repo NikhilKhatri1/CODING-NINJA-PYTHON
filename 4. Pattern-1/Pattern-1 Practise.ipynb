{
 "cells": [
  {
   "cell_type": "code",
   "execution_count": null,
   "metadata": {},
   "outputs": [],
   "source": [
    " ****\n",
    " ****\n",
    " ****\n",
    " ****"
   ]
  },
  {
   "cell_type": "code",
   "execution_count": 2,
   "metadata": {},
   "outputs": [
    {
     "name": "stdout",
     "output_type": "stream",
     "text": [
      "5\n",
      "*****\n",
      "*****\n",
      "*****\n",
      "*****\n",
      "*****\n"
     ]
    }
   ],
   "source": [
    "n = int(input())\n",
    "r = 1\n",
    "while r<=n:\n",
    "    c = 1\n",
    "    while c<=n:\n",
    "        print(\"*\",end = '')\n",
    "        c = c + 1\n",
    "    r = r + 1\n",
    "    print()"
   ]
  },
  {
   "cell_type": "markdown",
   "metadata": {},
   "source": [
    "1111\n",
    "2222\n",
    "3333\n",
    "4444"
   ]
  },
  {
   "cell_type": "code",
   "execution_count": 3,
   "metadata": {},
   "outputs": [
    {
     "name": "stdout",
     "output_type": "stream",
     "text": [
      "4\n",
      "1111\n",
      "2222\n",
      "3333\n",
      "4444\n"
     ]
    }
   ],
   "source": [
    "n = int(input())\n",
    "r=1\n",
    "while r<=n:\n",
    "    c=1\n",
    "    while c<=n:\n",
    "        print(r,end='')\n",
    "        c=c+1\n",
    "    r=r+1\n",
    "    print()"
   ]
  },
  {
   "cell_type": "markdown",
   "metadata": {},
   "source": [
    "1234\n",
    "1234\n",
    "1234\n",
    "1234"
   ]
  },
  {
   "cell_type": "code",
   "execution_count": 6,
   "metadata": {},
   "outputs": [
    {
     "name": "stdout",
     "output_type": "stream",
     "text": [
      "4\n",
      "1234\n",
      "1234\n",
      "1234\n",
      "1234\n"
     ]
    }
   ],
   "source": [
    "n=int(input())\n",
    "r=1\n",
    "while r<=n:                 #outside loop if it is true inside will run untill it get false.                    \n",
    "                            #r=1 intially then it inc..at r=5 it get false loop will close..\n",
    "    c=1                     \n",
    "    while c<=n:\n",
    "        print(c,end=\"\")\n",
    "        c=c+1\n",
    "    r=r+1\n",
    "    print()"
   ]
  },
  {
   "cell_type": "markdown",
   "metadata": {},
   "source": [
    "4321\n",
    "4321\n",
    "4321\n",
    "4321"
   ]
  },
  {
   "cell_type": "code",
   "execution_count": 7,
   "metadata": {},
   "outputs": [
    {
     "name": "stdout",
     "output_type": "stream",
     "text": [
      "4\n",
      "4321\n",
      "4321\n",
      "4321\n",
      "4321\n"
     ]
    }
   ],
   "source": [
    "n = int(input())\n",
    "r = 1\n",
    "while r <= n:\n",
    "    c = 1\n",
    "    while c <=n:\n",
    "        print(n-c+1, end = \"\")\n",
    "        c=c+1\n",
    "    r=r+1\n",
    "    print()"
   ]
  },
  {
   "cell_type": "code",
   "execution_count": null,
   "metadata": {},
   "outputs": [],
   "source": [
    "1234\n",
    "2345\n",
    "3456\n",
    "4567"
   ]
  },
  {
   "cell_type": "code",
   "execution_count": 8,
   "metadata": {},
   "outputs": [
    {
     "name": "stdout",
     "output_type": "stream",
     "text": [
      "4\n",
      "1234\n",
      "2345\n",
      "3456\n",
      "4567\n"
     ]
    }
   ],
   "source": [
    "n = int(input())\n",
    "r = 1\n",
    "while r<=n:\n",
    "    c = 1\n",
    "    while c<=n:\n",
    "        print(r+c-1,end=\"\")\n",
    "        c = c+1\n",
    "    r = r+1\n",
    "    print()"
   ]
  },
  {
   "cell_type": "code",
   "execution_count": null,
   "metadata": {},
   "outputs": [],
   "source": [
    "1\n",
    "22\n",
    "333\n",
    "4444"
   ]
  },
  {
   "cell_type": "code",
   "execution_count": 1,
   "metadata": {},
   "outputs": [
    {
     "name": "stdout",
     "output_type": "stream",
     "text": [
      "4\n",
      "1\n",
      "22\n",
      "333\n",
      "4444\n"
     ]
    }
   ],
   "source": [
    "n = int(input())\n",
    "r = 1\n",
    "while r<=n:\n",
    "    c = 1\n",
    "    while c<=r:\n",
    "        print(r,end=\"\")\n",
    "        c = c + 1\n",
    "    r = r + 1\n",
    "    print()"
   ]
  },
  {
   "cell_type": "code",
   "execution_count": null,
   "metadata": {},
   "outputs": [],
   "source": [
    "1\n",
    "12\n",
    "123\n",
    "1234"
   ]
  },
  {
   "cell_type": "code",
   "execution_count": 2,
   "metadata": {},
   "outputs": [
    {
     "name": "stdout",
     "output_type": "stream",
     "text": [
      "4\n",
      "1\n",
      "12\n",
      "123\n",
      "1234\n"
     ]
    }
   ],
   "source": [
    "n = int(input())\n",
    "r = 1\n",
    "while r<=n:\n",
    "    c=1\n",
    "    while c<=r:\n",
    "        print(c,end=\"\")\n",
    "        c=c+1\n",
    "    r=r+1\n",
    "    print()"
   ]
  },
  {
   "cell_type": "code",
   "execution_count": null,
   "metadata": {},
   "outputs": [],
   "source": [
    "1\n",
    "2  3\n",
    "4  5  6\n",
    "7  8  9  10\n",
    "11 12 13 14 15"
   ]
  },
  {
   "cell_type": "code",
   "execution_count": 4,
   "metadata": {},
   "outputs": [
    {
     "name": "stdout",
     "output_type": "stream",
     "text": [
      "5\n",
      "1\n",
      "23\n",
      "456\n",
      "78910\n",
      "1112131415\n"
     ]
    }
   ],
   "source": [
    "n = int(input())\n",
    "r = 1\n",
    "temp = 1\n",
    "while r<=n:\n",
    "    c = 1\n",
    "    while c<=r:\n",
    "        print(temp,end =\"\")\n",
    "        temp = temp + 1\n",
    "        c = c + 1\n",
    "    r = r + 1\n",
    "    print()"
   ]
  },
  {
   "cell_type": "code",
   "execution_count": null,
   "metadata": {},
   "outputs": [],
   "source": [
    "ABCD\n",
    "ABCD\n",
    "ABCD\n",
    "ABCD"
   ]
  },
  {
   "cell_type": "code",
   "execution_count": 7,
   "metadata": {},
   "outputs": [
    {
     "name": "stdout",
     "output_type": "stream",
     "text": [
      "4\n",
      "A B C D \n",
      "A B C D \n",
      "A B C D \n",
      "A B C D \n"
     ]
    }
   ],
   "source": [
    "n = int(input())\n",
    "r = 1\n",
    "while r<=n:\n",
    "    c = 1\n",
    "    while c<=n:\n",
    "        print(chr(64 + c) , end=\" \")\n",
    "        c = c + 1\n",
    "    r = r + 1\n",
    "    print()"
   ]
  },
  {
   "cell_type": "code",
   "execution_count": null,
   "metadata": {},
   "outputs": [],
   "source": [
    "# n = 4\n",
    "ABCD\n",
    "BCDE\n",
    "CDEF\n",
    "DEFG"
   ]
  },
  {
   "cell_type": "code",
   "execution_count": 9,
   "metadata": {},
   "outputs": [
    {
     "name": "stdout",
     "output_type": "stream",
     "text": [
      "4\n",
      "ABCD\n",
      "BCDE\n",
      "CDEF\n",
      "DEFG\n"
     ]
    }
   ],
   "source": [
    "n = int(input())\n",
    "r = 1\n",
    "while r<=n:\n",
    "    c = 1\n",
    "    while c<=n:\n",
    "        print(chr(64+r+c-1),end=\"\")\n",
    "        c = c + 1\n",
    "    r = r + 1\n",
    "    print()"
   ]
  },
  {
   "cell_type": "code",
   "execution_count": null,
   "metadata": {},
   "outputs": [],
   "source": [
    "A\n",
    "AB\n",
    "ABC\n",
    "ABCD"
   ]
  },
  {
   "cell_type": "code",
   "execution_count": 10,
   "metadata": {},
   "outputs": [
    {
     "name": "stdout",
     "output_type": "stream",
     "text": [
      "4\n",
      "A \n",
      "A B \n",
      "A B C \n",
      "A B C D \n"
     ]
    }
   ],
   "source": [
    "n = int(input())\n",
    "r = 1\n",
    "while r<=n:\n",
    "    c = 1\n",
    "    while c<=r:\n",
    "        print(chr(64+c), end = \" \")\n",
    "        c=c+1\n",
    "    r=r+1\n",
    "    print()"
   ]
  },
  {
   "cell_type": "code",
   "execution_count": null,
   "metadata": {},
   "outputs": [],
   "source": [
    "12344321\n",
    "123**321\n",
    "12****21\n",
    "1******1"
   ]
  },
  {
   "cell_type": "code",
   "execution_count": 12,
   "metadata": {},
   "outputs": [
    {
     "name": "stdout",
     "output_type": "stream",
     "text": [
      "4\n",
      "1\n",
      "1\n",
      "1\n",
      "1\n"
     ]
    }
   ],
   "source": []
  },
  {
   "cell_type": "code",
   "execution_count": null,
   "metadata": {},
   "outputs": [],
   "source": [
    "1\n",
    "11\n",
    "202\n",
    "3003"
   ]
  },
  {
   "cell_type": "code",
   "execution_count": 11,
   "metadata": {},
   "outputs": [
    {
     "name": "stdout",
     "output_type": "stream",
     "text": [
      "4\n",
      "1\n",
      "1 1 \n",
      "2 0 2 \n",
      "3 0 0 3 \n"
     ]
    }
   ],
   "source": [
    "n = int(input())\n",
    "print(1)\n",
    "r=1\n",
    "while r<=n-1:\n",
    "    c=1\n",
    "    while c<=r+1:\n",
    "        if (c==1 or c>=r+1):\n",
    "            print(r,end=\" \")\n",
    "        else:\n",
    "            print('0',end=\" \")\n",
    "        c=c+1\n",
    "    r=r+1\n",
    "    print()"
   ]
  },
  {
   "cell_type": "code",
   "execution_count": null,
   "metadata": {},
   "outputs": [],
   "source": [
    "****\n",
    "***\n",
    "**\n",
    "*"
   ]
  },
  {
   "cell_type": "code",
   "execution_count": 12,
   "metadata": {},
   "outputs": [
    {
     "name": "stdout",
     "output_type": "stream",
     "text": [
      "4\n",
      "* * * * \n",
      "* * * \n",
      "* * \n",
      "* \n"
     ]
    }
   ],
   "source": [
    "n = int(input())\n",
    "r = 1\n",
    "while r<=n:\n",
    "    c = 1\n",
    "    while c<=n-r+1:\n",
    "        print(\"*\",end=\" \")\n",
    "        c = c+1\n",
    "    r=r+1\n",
    "    print()"
   ]
  },
  {
   "cell_type": "code",
   "execution_count": 14,
   "metadata": {},
   "outputs": [
    {
     "name": "stdout",
     "output_type": "stream",
     "text": [
      "4\n",
      "4 3 2 1 \n",
      "4 3 2 \n",
      "4 3 \n",
      "4 \n"
     ]
    }
   ],
   "source": [
    "n = int(input())\n",
    "r = 1\n",
    "while r<=n:\n",
    "    c = 1\n",
    "    while c<=n-r+1:\n",
    "        print(n-c+1,end=\" \")\n",
    "        c = c+1\n",
    "    r=r+1\n",
    "    print()"
   ]
  },
  {
   "cell_type": "code",
   "execution_count": null,
   "metadata": {},
   "outputs": [],
   "source": [
    "*\n",
    "**\n",
    "***\n",
    "****"
   ]
  },
  {
   "cell_type": "code",
   "execution_count": 1,
   "metadata": {},
   "outputs": [
    {
     "name": "stdout",
     "output_type": "stream",
     "text": [
      "4\n",
      "*\n",
      "**\n",
      "***\n",
      "****\n"
     ]
    }
   ],
   "source": [
    "n = int(input())\n",
    "r = 1\n",
    "while r<=n:\n",
    "    c = 1\n",
    "    while c<=r:\n",
    "        print(\"*\", end=\"\")\n",
    "        c=c+1\n",
    "    r=r+1\n",
    "    print()"
   ]
  },
  {
   "cell_type": "code",
   "execution_count": null,
   "metadata": {},
   "outputs": [],
   "source": [
    "n=int(input())\n",
    "i=1\n",
    "k=1\n",
    "while i<=n:\n",
    "    spaces=1\n",
    "    while spaces<=n-i:\n",
    "        print(' ',end=\"\")\n",
    "        spaces=spaces+1\n",
    "    stars=1\n",
    "    while stars<=k:\n",
    "        print('*', end='')\n",
    "        stars=stars+1\n",
    "    k=k+2\n",
    "    print()\n",
    "    i=i+1"
   ]
  },
  {
   "cell_type": "code",
   "execution_count": null,
   "metadata": {},
   "outputs": [],
   "source": [
    "...*\n",
    "..***\n",
    ".*****\n",
    "*******"
   ]
  },
  {
   "cell_type": "code",
   "execution_count": 2,
   "metadata": {},
   "outputs": [
    {
     "name": "stdout",
     "output_type": "stream",
     "text": [
      "4\n",
      "   *\n",
      "  ***\n",
      " *****\n",
      "*******\n"
     ]
    }
   ],
   "source": [
    "n = int(input())\n",
    "r = 1\n",
    "k = 1\n",
    "while r<=n:\n",
    "    spaces=1\n",
    "    while spaces<=n-r:\n",
    "        print(\" \",end=\"\")\n",
    "        spaces= spaces+1\n",
    "    stars = 1\n",
    "    while stars<=k:\n",
    "        print(\"*\",end=\"\")\n",
    "        stars=stars+1\n",
    "    k = k + 2\n",
    "    print()\n",
    "    r = r + 1"
   ]
  },
  {
   "cell_type": "code",
   "execution_count": null,
   "metadata": {},
   "outputs": [],
   "source": [
    "...1\n",
    "..12\n",
    ".123\n",
    "1234"
   ]
  },
  {
   "cell_type": "code",
   "execution_count": 3,
   "metadata": {},
   "outputs": [
    {
     "name": "stdout",
     "output_type": "stream",
     "text": [
      "4\n",
      "...1\n",
      "..12\n",
      ".123\n",
      "1234\n"
     ]
    }
   ],
   "source": [
    "n = int(input())\n",
    "r = 1\n",
    "while r<=n:\n",
    "    dots = 1\n",
    "    while dots<=n-r:\n",
    "        print(\".\",end=\"\")\n",
    "        dots=dots+1\n",
    "    num = 1\n",
    "    while num<=r:\n",
    "        print(num,end=\"\")\n",
    "        num = num + 1\n",
    "    print()\n",
    "    r = r + 1"
   ]
  },
  {
   "cell_type": "code",
   "execution_count": null,
   "metadata": {},
   "outputs": [],
   "source": [
    "n = int(input())\n",
    "r = 1\n",
    "c = 1\n",
    "while r<=n:\n",
    "    "
   ]
  },
  {
   "cell_type": "code",
   "execution_count": null,
   "metadata": {},
   "outputs": [],
   "source": [
    "n = int(input())\n",
    "r = 1\n",
    "k = 1\n",
    "while r<=n:\n",
    "    num = 1\n",
    "    while num<=n+1-r:\n",
    "        print(num,end=\"\")\n",
    "        num=num+1\n",
    "    star = 1\n",
    "    while star<k:\n",
    "        print(\"*\",end=\"\")\n",
    "        star = star + 1\n",
    "        k = k + 2\n",
    "    while num<=n:\n",
    "        print(n+1-num,end=\"\")\n",
    "        num=num+1\n",
    "    print()\n",
    "    r = r + 1\n",
    "    r =r +1\n",
    "    print()"
   ]
  },
  {
   "cell_type": "code",
   "execution_count": null,
   "metadata": {},
   "outputs": [],
   "source": [
    "   1\n",
    "  232\n",
    " 34543\n",
    "4567654"
   ]
  },
  {
   "cell_type": "code",
   "execution_count": null,
   "metadata": {},
   "outputs": [],
   "source": []
  },
  {
   "cell_type": "code",
   "execution_count": null,
   "metadata": {},
   "outputs": [],
   "source": [
    "n = int(input())\n",
    "i = 1\n",
    "while i <= n:\n",
    "    #spaces\n",
    "    spaces = 1\n",
    "    while spaces <= n - i:\n",
    "        print(\" \",end = \"\")\n",
    "        spaces = spaces + 1\n",
    "    #increasing num\n",
    "    j = 1\n",
    "    p = i\n",
    "    while j<= i:\n",
    "        print(p,end = \"\")\n",
    "        j = j + 1\n",
    "        p = p + 1\n",
    "    #decreasing num\n",
    "    j=1\n",
    "    p = (2 *i) - 2\n",
    "    while j<= i-1:\n",
    "        print(p,end = \"\")\n",
    "        p = p - 1\n",
    "        j=j+1\n",
    "    print()\n",
    "    i = i + 1"
   ]
  },
  {
   "cell_type": "code",
   "execution_count": null,
   "metadata": {},
   "outputs": [],
   "source": [
    "..*\n",
    ".***\n",
    "*****\n",
    ".***\n",
    "..*"
   ]
  },
  {
   "cell_type": "code",
   "execution_count": 1,
   "metadata": {},
   "outputs": [
    {
     "name": "stdout",
     "output_type": "stream",
     "text": [
      "5\n",
      "..*\n",
      ".***\n",
      "*****\n"
     ]
    }
   ],
   "source": [
    "n = int (input())\n",
    "firsthalf = (n+1)//2\n",
    "secondhalf = n//2\n",
    "currentrow = 1\n",
    "while currentrow<=firsthalf:\n",
    "    spaces = 1\n",
    "    while spaces<=firsthalf-currentrow:\n",
    "        print(\".\",end=\"\")\n",
    "        spaces=spaces+1\n",
    "    stars=1\n",
    "    while stars<=2*(currentrow)-1:\n",
    "        print(\"*\",end=\"\")\n",
    "        stars=stars+1\n",
    "    print()\n",
    "    currentrow=currentrow+1\n",
    "currentrow = secondhalf\n",
    "while currentrow>=1:\n",
    "    spaces=1\n",
    "    while spaces<=(secondhalf-currentrow)+1:\n",
    "        print(\".\",end=\"\")\n",
    "        spaces=spaces+1\n",
    "    currentcol=1\n",
    "    while currentcol<=2*(currentrow)-1:\n",
    "        print(\"*\",end=\"\")\n",
    "        "
   ]
  },
  {
   "cell_type": "code",
   "execution_count": null,
   "metadata": {},
   "outputs": [],
   "source": [
    "1        1\n",
    "12      21\n",
    "123    321\n",
    "1234  4321\n",
    "1234554321"
   ]
  },
  {
   "cell_type": "code",
   "execution_count": 1,
   "metadata": {},
   "outputs": [
    {
     "name": "stdout",
     "output_type": "stream",
     "text": [
      "5\n",
      "1........1\n",
      "12......21\n",
      "123....321\n",
      "1234..4321\n",
      "1234554321\n"
     ]
    }
   ],
   "source": [
    "n = int(input())\n",
    "i = 1\n",
    "while i<=n:\n",
    "    firstnum = 1\n",
    "    while firstnum<=i:\n",
    "        print(firstnum,end=\"\")\n",
    "        firstnum = firstnum+1\n",
    "    spaces = 1\n",
    "    while spaces<=2*(n-i):\n",
    "        print(\".\",end=\"\")\n",
    "        spaces = spaces+1\n",
    "    c=i\n",
    "    r=1\n",
    "    while r<=i:\n",
    "        print(c,end=\"\")\n",
    "        c=c-1\n",
    "        r=r+1\n",
    "    print()\n",
    "    i=i+1"
   ]
  },
  {
   "cell_type": "code",
   "execution_count": null,
   "metadata": {},
   "outputs": [],
   "source": [
    "*000*000*\n",
    "0*00*00*0\n",
    "00*0*0*00\n",
    "000***000\n",
    "n = 4"
   ]
  },
  {
   "cell_type": "code",
   "execution_count": 1,
   "metadata": {},
   "outputs": [
    {
     "name": "stdout",
     "output_type": "stream",
     "text": [
      "4\n",
      "*000*000*\n",
      "0*00*00*0\n",
      "00*0*0*00\n",
      "000***000\n"
     ]
    }
   ],
   "source": [
    "n = int(input())\n",
    "rows = 2*(n) + 1\n",
    "i = 1\n",
    "while i<=n:\n",
    "    stars = 1\n",
    "    while stars<=rows:\n",
    "        if (stars == i or stars == (rows//2+1) or stars == rows - i + 1):\n",
    "            print(\"*\",end=\"\")\n",
    "        else:\n",
    "            print(\"0\",end=\"\")\n",
    "        stars = stars + 1\n",
    "    print()\n",
    "    i = i + 1"
   ]
  },
  {
   "cell_type": "code",
   "execution_count": 3,
   "metadata": {},
   "outputs": [
    {
     "name": "stdout",
     "output_type": "stream",
     "text": [
      "12\n",
      "false\n"
     ]
    }
   ],
   "source": [
    "n = input()\n",
    "l = list(n)\n",
    "x = len(l)\n",
    "n = int(n)\n",
    "s = 0\n",
    "for i in l:\n",
    "    s = s + int(i)**x\n",
    "if s == n:\n",
    "    print('true')\n",
    "else:\n",
    "    print('false')"
   ]
  },
  {
   "cell_type": "code",
   "execution_count": null,
   "metadata": {},
   "outputs": [],
   "source": [
    "1111\n",
    "000\n",
    "11\n",
    "0\n",
    "n=4"
   ]
  },
  {
   "cell_type": "code",
   "execution_count": 4,
   "metadata": {},
   "outputs": [
    {
     "name": "stdout",
     "output_type": "stream",
     "text": [
      "4\n",
      "1111\n",
      "000\n",
      "11\n",
      "0\n"
     ]
    }
   ],
   "source": [
    "n = int(input())\n",
    "r = 1\n",
    "while r<=n:\n",
    "    c = 1\n",
    "    while c<=n+1-r:\n",
    "        if r%2!=0:\n",
    "            print(1,end=\"\")\n",
    "        else:\n",
    "            print(0,end=\"\")\n",
    "        c = c + 1\n",
    "    print()\n",
    "    r = r + 1"
   ]
  },
  {
   "cell_type": "code",
   "execution_count": null,
   "metadata": {},
   "outputs": [],
   "source": [
    "123456\n",
    " 23456\n",
    "  3456\n",
    "   456\n",
    "    56\n",
    "     6\n",
    "    56\n",
    "   456\n",
    "  3456\n",
    " 23456\n",
    "123456\n",
    "n = 6"
   ]
  },
  {
   "cell_type": "code",
   "execution_count": 9,
   "metadata": {},
   "outputs": [
    {
     "name": "stdout",
     "output_type": "stream",
     "text": [
      "6\n",
      "123456\n",
      " 23456\n",
      "  3456\n",
      "   456\n",
      "    56\n",
      "     6\n",
      "    56\n",
      "   456\n",
      "  3456\n",
      " 23456\n",
      "123456\n"
     ]
    }
   ],
   "source": [
    "n = int(input())\n",
    "r = 1\n",
    "while r <= n:\n",
    "    space = 1\n",
    "    while space < r:\n",
    "        print(\" \",end=\"\")\n",
    "        space = space + 1\n",
    "    c = 1\n",
    "    while c <= n + 1 - r:\n",
    "        print(c + r - 1, end = \"\")\n",
    "        c = c + 1\n",
    "    print()\n",
    "    r = r + 1\n",
    "# 2nd pattern\n",
    "r = 1\n",
    "while r<n:\n",
    "    space = 1\n",
    "    while space < n-r:\n",
    "        print(\" \",end=\"\")\n",
    "        space = space + 1\n",
    "    c = 1\n",
    "    while c <= r + 1:\n",
    "        print(n+c-r-1,end=\"\")\n",
    "        c = c + 1\n",
    "    print()\n",
    "    r = r + 1"
   ]
  },
  {
   "cell_type": "code",
   "execution_count": null,
   "metadata": {},
   "outputs": [],
   "source": [
    "  *\n",
    " ***\n",
    "*****\n",
    " ***\n",
    "  *\n",
    "n = 5"
   ]
  },
  {
   "cell_type": "code",
   "execution_count": 12,
   "metadata": {},
   "outputs": [
    {
     "name": "stdout",
     "output_type": "stream",
     "text": [
      "5\n",
      "  *\n",
      " ***\n",
      "*****\n",
      " ***\n",
      "  *\n"
     ]
    }
   ],
   "source": [
    "n = int(input())\n",
    "#icreament star\n",
    "r = 1\n",
    "while r <= n//2 + 1:\n",
    "    space = 1\n",
    "    while space <= n//2 - r + 1:\n",
    "        print(\" \",end=\"\")\n",
    "        space = space + 1\n",
    "    c = 1\n",
    "    while c <= 2*r-1:\n",
    "        print(\"*\",end=\"\")\n",
    "        c = c + 1\n",
    "    print()\n",
    "    r = r + 1\n",
    "#Decrement star\n",
    "r = 1\n",
    "while r <= n//2:\n",
    "    space = 1\n",
    "    while space<=r:\n",
    "        print(\" \",end=\"\")\n",
    "        space = space + 1\n",
    "    c = 1\n",
    "    while c <= n - 2*r:\n",
    "        print(\"*\",end=\"\")\n",
    "        c = c + 1\n",
    "    print()\n",
    "    r = r + 1"
   ]
  },
  {
   "cell_type": "code",
   "execution_count": null,
   "metadata": {},
   "outputs": [],
   "source": [
    "rectanguar number pattern\n",
    "4444444\n",
    "4333334\n",
    "4322234\n",
    "4321234\n",
    "4322234\n",
    "4333334  \n",
    "4444444"
   ]
  },
  {
   "cell_type": "code",
   "execution_count": 3,
   "metadata": {},
   "outputs": [
    {
     "name": "stdout",
     "output_type": "stream",
     "text": [
      "4\n",
      "4444444\n",
      "4333334\n",
      "4322234\n",
      "4321234\n",
      "4322234\n",
      "4333334\n",
      "4444444\n"
     ]
    }
   ],
   "source": [
    "n =int(input())\n",
    "k = (2*n)-1\n",
    "low = 0\n",
    "high = k-1\n",
    "value = n\n",
    "matrix = [[0 for i in range(k)] for j in range(k)]\n",
    "for i in range(n):\n",
    "    for j in range(low, high + 1):\n",
    "        matrix[i][j] = value\n",
    "    for j in range(low+1,high+1):\n",
    "        matrix[j][i] = value\n",
    "    for j in range(low + 1,high+1):\n",
    "        matrix[high][j] = value\n",
    "    for j in range(low + 1,high):\n",
    "        matrix[j][high] = value\n",
    "    low = low + 1\n",
    "    high = high - 1\n",
    "    value = value - 1\n",
    "for i in range(k):\n",
    "    for j in range(k):\n",
    "        print(matrix[i][j], end=\"\")\n",
    "    print()"
   ]
  },
  {
   "cell_type": "code",
   "execution_count": 11,
   "metadata": {},
   "outputs": [],
   "source": [
    "## Bubble Sort...\n",
    "def bubble_sort(array):\n",
    "    a = len(array)\n",
    "    for i in range(a):\n",
    "        for j in range(i+1,a):\n",
    "            if array[i]>array[j]:\n",
    "                array[i],array[j]=array[j],array[i]\n",
    "    return array"
   ]
  },
  {
   "cell_type": "code",
   "execution_count": 12,
   "metadata": {},
   "outputs": [
    {
     "name": "stdout",
     "output_type": "stream",
     "text": [
      "4\n",
      "8 9 1 2\n"
     ]
    },
    {
     "data": {
      "text/plain": [
       "[1, 2, 8, 9]"
      ]
     },
     "execution_count": 12,
     "metadata": {},
     "output_type": "execute_result"
    }
   ],
   "source": [
    "n = int(input())\n",
    "if n != 0:\n",
    "    array = [int(x) for x in input().split()]\n",
    "else:\n",
    "    array = [0]\n",
    "bubble_sort(array)"
   ]
  },
  {
   "cell_type": "code",
   "execution_count": null,
   "metadata": {},
   "outputs": [],
   "source": []
  }
 ],
 "metadata": {
  "kernelspec": {
   "display_name": "Python 3",
   "language": "python",
   "name": "python3"
  },
  "language_info": {
   "codemirror_mode": {
    "name": "ipython",
    "version": 3
   },
   "file_extension": ".py",
   "mimetype": "text/x-python",
   "name": "python",
   "nbconvert_exporter": "python",
   "pygments_lexer": "ipython3",
   "version": "3.8.5"
  }
 },
 "nbformat": 4,
 "nbformat_minor": 4
}
